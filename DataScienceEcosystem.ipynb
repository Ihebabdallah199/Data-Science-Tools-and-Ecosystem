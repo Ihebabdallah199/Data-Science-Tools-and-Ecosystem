{
 "cells": [
  {
   "cell_type": "code",
   "execution_count": null,
   "id": "a88a782c",
   "metadata": {},
   "outputs": [],
   "source": [
    "# Data Science Tools and Ecosystem\n",
    "\n"
   ]
  },
  {
   "cell_type": "code",
   "execution_count": null,
   "id": "e443db7e",
   "metadata": {},
   "outputs": [],
   "source": [
    "\n",
    "## Introduction\n",
    "\n",
    "In this notebook, Data Science Tools and Ecosystem are summarized.\n"
   ]
  },
  {
   "cell_type": "code",
   "execution_count": null,
   "id": "53d9de57",
   "metadata": {},
   "outputs": [],
   "source": [
    "**Objectives:**\n",
    "\n",
    "- Explore popular programming languages commonly used in Data Science.\n",
    "- Identify key libraries that play a crucial role in data manipulation, analysis, and machine learning.\n",
    "- Introduce commonly used development environment tools in Data Science.\n",
    "- Demonstrate the evaluation of arithmetic expressions in Python.\n",
    "- Illustrate the conversion of minutes to hours as a practical arithmetic operation in Python.\n"
   ]
  },
  {
   "cell_type": "code",
   "execution_count": null,
   "id": "48981fd7",
   "metadata": {},
   "outputs": [],
   "source": [
    "Some of the popular languages that Data Scientists use are:\n",
    "\n",
    "1. **Python**: Widely recognized as the go-to language for data science, Python offers extensive libraries like NumPy,\n",
    "    Pandas, and scikit-learn for data manipulation, analysis, and machine learning.\n",
    "\n",
    "2. **R**: Known for its statistical capabilities, R is commonly used in academia and research for statistical analysis, \n",
    "    data visualization, and machine learning.\n",
    "\n",
    "3. **SQL (Structured Query Language)**: Although not a programming language per se, SQL is crucial for managing and\n",
    "    querying databases. Data scientists often use SQL to extract and manipulate data stored in relational databases.\n",
    "\n",
    "4. **Julia**: Emerging as a language for high-performance computing and data analysis, Julia is gaining popularity for\n",
    "    its speed and ease of use in scientific computing and data manipulation.\n",
    "\n",
    "5. **Scala**: Scala is often used in conjunction with Apache Spark for big data processing. Its functional programming \n",
    "    capabilities make it suitable for scalable and distributed data processing tasks.\n",
    "\n",
    "6. **MATLAB**: Commonly used in academic and industrial research, MATLAB is known for its powerful mathematical and matrix\n",
    "    manipulation capabilities, making it suitable for various data analysis tasks.\n"
   ]
  },
  {
   "cell_type": "code",
   "execution_count": null,
   "id": "6ba5258c",
   "metadata": {},
   "outputs": [],
   "source": [
    "Some of the commonly used libraries used by Data Scientists include:\n",
    "\n",
    "1. **NumPy**: A fundamental library for numerical operations in Python, NumPy provides support for large, multi-dimensional\n",
    "    arrays and matrices, along with mathematical functions to operate on these data structures.\n",
    "\n",
    "2. **Pandas**: Built on top of NumPy, Pandas offers data structures like DataFrame for efficient data manipulation and \n",
    "    analysis. It is widely used for data cleaning, exploration, and transformation tasks.\n",
    "\n",
    "3. **Matplotlib**: A popular plotting library in Python, Matplotlib is essential for creating a variety of static, animated, \n",
    "    and interactive visualizations, making it a valuable tool for data exploration and presentation.\n",
    "\n",
    "4. **Seaborn**: Based on Matplotlib, Seaborn provides a high-level interface for statistical data visualization. It simplifies\n",
    "    the creation of informative and attractive statistical graphics.\n",
    "\n",
    "5. **scikit-learn**: An open-source machine learning library in Python, scikit-learn provides simple and efficient tools \n",
    "    for data mining and data analysis. It includes various algorithms for classification, regression, clustering, and more.\n",
    "\n",
    "6. **TensorFlow**: Developed by Google, TensorFlow is an open-source machine learning framework. It is particularly popular\n",
    "    for building and training deep learning models.\n",
    "\n",
    "7. **PyTorch**: Another widely used deep learning framework, PyTorch is known for its dynamic computation graph, making it \n",
    "    flexible for experimentation and research in deep learning.\n",
    "\n",
    "8. **SciPy**: Built on NumPy, SciPy is a library for scientific and technical computing. It provides additional functionality\n",
    "    for optimization, integration, signal and image processing, and more.\n"
   ]
  },
  {
   "cell_type": "code",
   "execution_count": null,
   "id": "402617c8",
   "metadata": {},
   "outputs": [],
   "source": [
    "| Data Science Tools     |\n",
    "|------------------------|\n",
    "| Jupyter Notebooks      |\n",
    "| RStudio                |\n",
    "| VS Code with Python    |\n",
    "\n"
   ]
  },
  {
   "cell_type": "code",
   "execution_count": null,
   "id": "bcaa9e00",
   "metadata": {},
   "outputs": [],
   "source": [
    "### Examples of Evaluating Arithmetic Expressions in Python\n",
    "\n",
    "In this section, we'll explore some examples of evaluating arithmetic expressions in Python. Python provides a straightforward\n",
    "syntax for performing basic mathematical operations. Let's take a look at a few examples:\n"
   ]
  },
  {
   "cell_type": "code",
   "execution_count": 4,
   "id": "a80a5aec",
   "metadata": {},
   "outputs": [
    {
     "data": {
      "text/plain": [
       "17"
      ]
     },
     "execution_count": 4,
     "metadata": {},
     "output_type": "execute_result"
    }
   ],
   "source": [
    "# This is a simple arithmetic expression to multiply then add integers.\n",
    "result = (3 * 4) + 5\n",
    "result\n"
   ]
  },
  {
   "cell_type": "code",
   "execution_count": 5,
   "id": "f5a78a76",
   "metadata": {},
   "outputs": [
    {
     "data": {
      "text/plain": [
       "3.3333333333333335"
      ]
     },
     "execution_count": 5,
     "metadata": {},
     "output_type": "execute_result"
    }
   ],
   "source": [
    "# This will convert 200 minutes to hours by dividing by 60.\n",
    "minutes = 200\n",
    "hours = minutes / 60\n",
    "hours\n"
   ]
  },
  {
   "cell_type": "code",
   "execution_count": 6,
   "id": "1c694a54",
   "metadata": {},
   "outputs": [
    {
     "ename": "SyntaxError",
     "evalue": "invalid syntax (1213205514.py, line 2)",
     "output_type": "error",
     "traceback": [
      "\u001b[1;36m  Cell \u001b[1;32mIn[6], line 2\u001b[1;36m\u001b[0m\n\u001b[1;33m    ABDALLAH IHEB\u001b[0m\n\u001b[1;37m             ^\u001b[0m\n\u001b[1;31mSyntaxError\u001b[0m\u001b[1;31m:\u001b[0m invalid syntax\n"
     ]
    }
   ],
   "source": [
    "## Author\n",
    "ABDALLAH IHEB \n"
   ]
  },
  {
   "cell_type": "code",
   "execution_count": null,
   "id": "d3155c87",
   "metadata": {},
   "outputs": [],
   "source": []
  }
 ],
 "metadata": {
  "kernelspec": {
   "display_name": "Python 3 (ipykernel)",
   "language": "python",
   "name": "python3"
  },
  "language_info": {
   "codemirror_mode": {
    "name": "ipython",
    "version": 3
   },
   "file_extension": ".py",
   "mimetype": "text/x-python",
   "name": "python",
   "nbconvert_exporter": "python",
   "pygments_lexer": "ipython3",
   "version": "3.11.5"
  }
 },
 "nbformat": 4,
 "nbformat_minor": 5
}
